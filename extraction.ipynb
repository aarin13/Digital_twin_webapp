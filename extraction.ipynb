{
 "cells": [
  {
   "cell_type": "code",
   "execution_count": 7,
   "metadata": {},
   "outputs": [],
   "source": [
    "import numpy as np\n",
    "import pandas as pd"
   ]
  },
  {
   "cell_type": "code",
   "execution_count": 8,
   "metadata": {},
   "outputs": [
    {
     "name": "stdout",
     "output_type": "stream",
     "text": [
      "Looking in indexes: https://pypi.org/simple, https://pypi.ngc.nvidia.comNote: you may need to restart the kernel to use updated packages.\n",
      "Requirement already satisfied: fsspec in c:\\users\\hp\\appdata\\local\\programs\\python\\python39\\lib\\site-packages (2023.6.0)\n",
      "\n"
     ]
    },
    {
     "name": "stderr",
     "output_type": "stream",
     "text": [
      "\n",
      "[notice] A new release of pip available: 22.3.1 -> 23.2\n",
      "[notice] To update, run: python.exe -m pip install --upgrade pip\n"
     ]
    }
   ],
   "source": [
    "%pip install fsspec"
   ]
  },
  {
   "cell_type": "code",
   "execution_count": 9,
   "metadata": {},
   "outputs": [],
   "source": [
    "data = pd.read_csv(\"C://Users//HP//Desktop//dtwin_native//dt1.csv\")"
   ]
  },
  {
   "cell_type": "code",
   "execution_count": 11,
   "metadata": {},
   "outputs": [
    {
     "data": {
      "text/html": [
       "<div>\n",
       "<style scoped>\n",
       "    .dataframe tbody tr th:only-of-type {\n",
       "        vertical-align: middle;\n",
       "    }\n",
       "\n",
       "    .dataframe tbody tr th {\n",
       "        vertical-align: top;\n",
       "    }\n",
       "\n",
       "    .dataframe thead th {\n",
       "        text-align: right;\n",
       "    }\n",
       "</style>\n",
       "<table border=\"1\" class=\"dataframe\">\n",
       "  <thead>\n",
       "    <tr style=\"text-align: right;\">\n",
       "      <th></th>\n",
       "      <th>Timestamp</th>\n",
       "      <th>19-Jul-2023 16:25:39</th>\n",
       "      <th>Timestamp.1</th>\n",
       "      <th>19-Jul-2023 16:25:39.1</th>\n",
       "      <th>Timestamp.2</th>\n",
       "      <th>19-Jul-2023 16:25:39.2</th>\n",
       "      <th>Timestamp.3</th>\n",
       "      <th>19-Jul-2023 16:25:39.3</th>\n",
       "    </tr>\n",
       "  </thead>\n",
       "  <tbody>\n",
       "    <tr>\n",
       "      <th>1002</th>\n",
       "      <td>9.99000000000000E+0</td>\n",
       "      <td>1.07632923781549E+3</td>\n",
       "      <td>9.99000000000000E+0</td>\n",
       "      <td>2.25014775246303E-4</td>\n",
       "      <td>9.99000000000000E+0</td>\n",
       "      <td>6.00515551075912E+0</td>\n",
       "      <td>9.99000000000000E+0</td>\n",
       "      <td>3.91554209554711E+0</td>\n",
       "    </tr>\n",
       "  </tbody>\n",
       "</table>\n",
       "</div>"
      ],
      "text/plain": [
       "                Timestamp 19-Jul-2023 16:25:39          Timestamp.1  \\\n",
       "1002  9.99000000000000E+0  1.07632923781549E+3  9.99000000000000E+0   \n",
       "\n",
       "     19-Jul-2023 16:25:39.1          Timestamp.2 19-Jul-2023 16:25:39.2  \\\n",
       "1002    2.25014775246303E-4  9.99000000000000E+0    6.00515551075912E+0   \n",
       "\n",
       "              Timestamp.3 19-Jul-2023 16:25:39.3  \n",
       "1002  9.99000000000000E+0    3.91554209554711E+0  "
      ]
     },
     "execution_count": 11,
     "metadata": {},
     "output_type": "execute_result"
    }
   ],
   "source": [
    "data.tail(1)"
   ]
  },
  {
   "cell_type": "code",
   "execution_count": 12,
   "metadata": {},
   "outputs": [
    {
     "data": {
      "text/html": [
       "<div>\n",
       "<style scoped>\n",
       "    .dataframe tbody tr th:only-of-type {\n",
       "        vertical-align: middle;\n",
       "    }\n",
       "\n",
       "    .dataframe tbody tr th {\n",
       "        vertical-align: top;\n",
       "    }\n",
       "\n",
       "    .dataframe thead th {\n",
       "        text-align: right;\n",
       "    }\n",
       "</style>\n",
       "<table border=\"1\" class=\"dataframe\">\n",
       "  <thead>\n",
       "    <tr style=\"text-align: right;\">\n",
       "      <th></th>\n",
       "      <th>Timestamp</th>\n",
       "      <th>19-Jul-2023 16:25:39</th>\n",
       "      <th>Timestamp.1</th>\n",
       "      <th>19-Jul-2023 16:25:39.1</th>\n",
       "      <th>Timestamp.2</th>\n",
       "      <th>19-Jul-2023 16:25:39.2</th>\n",
       "      <th>Timestamp.3</th>\n",
       "      <th>19-Jul-2023 16:25:39.3</th>\n",
       "    </tr>\n",
       "  </thead>\n",
       "  <tbody>\n",
       "    <tr>\n",
       "      <th>0</th>\n",
       "      <td>Interval</td>\n",
       "      <td>1.00000000000000E-2</td>\n",
       "      <td>Interval</td>\n",
       "      <td>1.00000000000000E-2</td>\n",
       "      <td>Interval</td>\n",
       "      <td>1.00000000000000E-2</td>\n",
       "      <td>Interval</td>\n",
       "      <td>1.00000000000000E-2</td>\n",
       "    </tr>\n",
       "    <tr>\n",
       "      <th>1</th>\n",
       "      <td>Channel Name</td>\n",
       "      <td>Temp_R</td>\n",
       "      <td>Channel Name</td>\n",
       "      <td>Current</td>\n",
       "      <td>Channel Name</td>\n",
       "      <td>Vib_Extruder</td>\n",
       "      <td>Channel Name</td>\n",
       "      <td>Vibration_2</td>\n",
       "    </tr>\n",
       "    <tr>\n",
       "      <th>2</th>\n",
       "      <td>Unit</td>\n",
       "      <td>Ohms</td>\n",
       "      <td>Unit</td>\n",
       "      <td>Amps</td>\n",
       "      <td>Unit</td>\n",
       "      <td>Volts</td>\n",
       "      <td>Unit</td>\n",
       "      <td>Volts</td>\n",
       "    </tr>\n",
       "    <tr>\n",
       "      <th>3</th>\n",
       "      <td>0.00000000000000E+0</td>\n",
       "      <td>1.15592715747409E+3</td>\n",
       "      <td>0.00000000000000E+0</td>\n",
       "      <td>2.40866197087013E-4</td>\n",
       "      <td>0.00000000000000E+0</td>\n",
       "      <td>5.98278909682988E+0</td>\n",
       "      <td>0.00000000000000E+0</td>\n",
       "      <td>3.90238540155402E+0</td>\n",
       "    </tr>\n",
       "    <tr>\n",
       "      <th>4</th>\n",
       "      <td>1.00000000000000E-2</td>\n",
       "      <td>1.07139548249340E+3</td>\n",
       "      <td>1.00000000000000E-2</td>\n",
       "      <td>1.74818606073940E-4</td>\n",
       "      <td>1.00000000000000E-2</td>\n",
       "      <td>6.01074711431131E+0</td>\n",
       "      <td>1.00000000000000E-2</td>\n",
       "      <td>3.84548270116570E+0</td>\n",
       "    </tr>\n",
       "  </tbody>\n",
       "</table>\n",
       "</div>"
      ],
      "text/plain": [
       "             Timestamp 19-Jul-2023 16:25:39          Timestamp.1  \\\n",
       "0             Interval  1.00000000000000E-2             Interval   \n",
       "1         Channel Name               Temp_R         Channel Name   \n",
       "2                 Unit                 Ohms                 Unit   \n",
       "3  0.00000000000000E+0  1.15592715747409E+3  0.00000000000000E+0   \n",
       "4  1.00000000000000E-2  1.07139548249340E+3  1.00000000000000E-2   \n",
       "\n",
       "  19-Jul-2023 16:25:39.1          Timestamp.2 19-Jul-2023 16:25:39.2  \\\n",
       "0    1.00000000000000E-2             Interval    1.00000000000000E-2   \n",
       "1                Current         Channel Name           Vib_Extruder   \n",
       "2                   Amps                 Unit                  Volts   \n",
       "3    2.40866197087013E-4  0.00000000000000E+0    5.98278909682988E+0   \n",
       "4    1.74818606073940E-4  1.00000000000000E-2    6.01074711431131E+0   \n",
       "\n",
       "           Timestamp.3 19-Jul-2023 16:25:39.3  \n",
       "0             Interval    1.00000000000000E-2  \n",
       "1         Channel Name            Vibration_2  \n",
       "2                 Unit                  Volts  \n",
       "3  0.00000000000000E+0    3.90238540155402E+0  \n",
       "4  1.00000000000000E-2    3.84548270116570E+0  "
      ]
     },
     "execution_count": 12,
     "metadata": {},
     "output_type": "execute_result"
    }
   ],
   "source": [
    "data.head()"
   ]
  },
  {
   "cell_type": "code",
   "execution_count": 14,
   "metadata": {},
   "outputs": [],
   "source": [
    "cols = [\"timestamp\", \"Temp_R\", \"timestamp\", \"Current\",\"timestamp\", \"Vib_Extuder\",\"timestamp\" ,\"Vibration2\"  ]"
   ]
  },
  {
   "cell_type": "code",
   "execution_count": 15,
   "metadata": {},
   "outputs": [],
   "source": [
    "data.columns = cols"
   ]
  },
  {
   "cell_type": "code",
   "execution_count": 39,
   "metadata": {},
   "outputs": [
    {
     "data": {
      "text/html": [
       "<div>\n",
       "<style scoped>\n",
       "    .dataframe tbody tr th:only-of-type {\n",
       "        vertical-align: middle;\n",
       "    }\n",
       "\n",
       "    .dataframe tbody tr th {\n",
       "        vertical-align: top;\n",
       "    }\n",
       "\n",
       "    .dataframe thead th {\n",
       "        text-align: right;\n",
       "    }\n",
       "</style>\n",
       "<table border=\"1\" class=\"dataframe\">\n",
       "  <thead>\n",
       "    <tr style=\"text-align: right;\">\n",
       "      <th></th>\n",
       "      <th>timestamp</th>\n",
       "      <th>Temp_R</th>\n",
       "      <th>timestamp</th>\n",
       "      <th>Current</th>\n",
       "      <th>timestamp</th>\n",
       "      <th>Vib_Extuder</th>\n",
       "      <th>timestamp</th>\n",
       "      <th>Vibration2</th>\n",
       "    </tr>\n",
       "  </thead>\n",
       "  <tbody>\n",
       "    <tr>\n",
       "      <th>1002</th>\n",
       "      <td>9.99000000000000E+0</td>\n",
       "      <td>1.07632923781549E+3</td>\n",
       "      <td>9.99000000000000E+0</td>\n",
       "      <td>2.25014775246303E-4</td>\n",
       "      <td>9.99000000000000E+0</td>\n",
       "      <td>6.00515551075912E+0</td>\n",
       "      <td>9.99000000000000E+0</td>\n",
       "      <td>3.91554209554711E+0</td>\n",
       "    </tr>\n",
       "  </tbody>\n",
       "</table>\n",
       "</div>"
      ],
      "text/plain": [
       "                timestamp               Temp_R            timestamp  \\\n",
       "1002  9.99000000000000E+0  1.07632923781549E+3  9.99000000000000E+0   \n",
       "\n",
       "                  Current            timestamp          Vib_Extuder  \\\n",
       "1002  2.25014775246303E-4  9.99000000000000E+0  6.00515551075912E+0   \n",
       "\n",
       "                timestamp           Vibration2  \n",
       "1002  9.99000000000000E+0  3.91554209554711E+0  "
      ]
     },
     "execution_count": 39,
     "metadata": {},
     "output_type": "execute_result"
    }
   ],
   "source": [
    "tail = data.tail(1)\n",
    "tail = pd.DataFrame(tail)\n",
    "tail"
   ]
  },
  {
   "cell_type": "code",
   "execution_count": 44,
   "metadata": {},
   "outputs": [],
   "source": [
    "ele = [float(tail.iloc[0][1]), float(tail.iloc[0][3]),float(tail.iloc[0][5]), float(tail.iloc[0][7])]"
   ]
  },
  {
   "cell_type": "code",
   "execution_count": 45,
   "metadata": {},
   "outputs": [
    {
     "name": "stdout",
     "output_type": "stream",
     "text": [
      "[1076.32923781549, 0.000225014775246303, 6.00515551075912, 3.91554209554711]\n"
     ]
    }
   ],
   "source": [
    "print(ele)"
   ]
  },
  {
   "cell_type": "code",
   "execution_count": 42,
   "metadata": {},
   "outputs": [
    {
     "data": {
      "text/plain": [
       "1076.32923781549"
      ]
     },
     "execution_count": 42,
     "metadata": {},
     "output_type": "execute_result"
    }
   ],
   "source": []
  },
  {
   "cell_type": "code",
   "execution_count": null,
   "metadata": {},
   "outputs": [],
   "source": []
  }
 ],
 "metadata": {
  "kernelspec": {
   "display_name": "Python 3",
   "language": "python",
   "name": "python3"
  },
  "language_info": {
   "codemirror_mode": {
    "name": "ipython",
    "version": 3
   },
   "file_extension": ".py",
   "mimetype": "text/x-python",
   "name": "python",
   "nbconvert_exporter": "python",
   "pygments_lexer": "ipython3",
   "version": "3.9.7"
  },
  "orig_nbformat": 4
 },
 "nbformat": 4,
 "nbformat_minor": 2
}
